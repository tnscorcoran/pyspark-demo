{
 "cells": [
  {
   "cell_type": "code",
   "execution_count": null,
   "id": "1674ecf3-60cf-4567-95dc-4e48a0d50fa3",
   "metadata": {},
   "outputs": [],
   "source": [
    "import sys, string\n",
    "import os\n",
    "import socket\n",
    "from pyspark.sql import SparkSession\n",
    "from datetime import datetime"
   ]
  },
  {
   "cell_type": "code",
   "execution_count": null,
   "id": "ffec1815-35e4-4f17-b4f1-0c33f971a2e2",
   "metadata": {},
   "outputs": [],
   "source": [
    "if __name__ == \"__main__\":\n",
    "\n",
    "    spark = SparkSession\\\n",
    "        .builder\\\n",
    "        .appName(\"PythonWordCount\")\\\n",
    "        .getOrCreate()\n",
    "\n",
    "\n",
    "    s3_endpoint_url = os.environ['S3_ENDPOINT_URL']\n",
    "    s3_access_key_id = os.environ['AWS_ACCESS_KEY_ID']\n",
    "    s3_secret_access_key = os.environ['AWS_SECRET_ACCESS_KEY']\n",
    "    s3_bucket = os.environ['BUCKET_NAME']\n",
    "\n",
    "    file_path = os.getcwd()\n",
    "    print(\"file path:\" + file_path)\n",
    "\n",
    "    hadoopConf = spark.sparkContext._jsc.hadoopConfiguration()\n",
    "    hadoopConf.set(\"fs.s3a.endpoint\", s3_endpoint_url)\n",
    "    hadoopConf.set(\"fs.s3a.access.key\", s3_access_key_id)\n",
    "    hadoopConf.set(\"fs.s3a.secret.key\", s3_secret_access_key)\n",
    "    hadoopConf.set(\"fs.s3a.path.style.access\", \"true\")\n",
    "    hadoopConf.set(\"fs.s3a.connection.ssl.enabled\", \"false\")\n",
    "\n",
    "    text_file = spark.sparkContext.textFile(\"s3a://\" + s3_bucket + \"/shakespeare.txt\") \\\n",
    "                .flatMap(lambda line: line.split(\" \")) \\\n",
    "                .map( lambda x: x.replace(',',' ').replace('.',' ').replace('-',' ').lower())\n",
    "\n",
    "    sorted_counts = text_file.flatMap(lambda line: line.split(\" \")) \\\n",
    "            .map(lambda word: (word, 1)) \\\n",
    "            .reduceByKey(lambda a, b: a + b) \\\n",
    "            .sortBy(lambda wordCounts: wordCounts[1], ascending=False)\n",
    "\n",
    "    i = 0\n",
    "    for word, count in sorted_counts.collect()[0:500]:\n",
    "        print(\"{} : {} : {} \".format(i, word, count))\n",
    "        i += 1\n",
    "\n",
    "    now = datetime.now() # current date and time\n",
    "    date_time = now.strftime(\"%d-%m-%Y_%H:%M:%S\")\n",
    "\n",
    "    # sorted_counts.saveAsTextFile(\"s3a://\" + s3_bucket + \"/sorted_counts_\" + date_time)\n",
    "    sorted_counts.saveAsTextFile(\"file:///opt/app-root/src/result/\" + date_time)\n",
    "\n",
    "    spark.stop()"
   ]
  },
  {
   "cell_type": "code",
   "execution_count": null,
   "id": "5226138e-94d0-4cac-a017-6b541931b2ce",
   "metadata": {},
   "outputs": [],
   "source": [
    "print('Notebook complete!')"
   ]
  }
 ],
 "metadata": {
  "kernelspec": {
   "display_name": "Python 3.9.14",
   "language": "python",
   "name": "python3"
  },
  "language_info": {
   "codemirror_mode": {
    "name": "ipython",
    "version": 3
   },
   "file_extension": ".py",
   "mimetype": "text/x-python",
   "name": "python",
   "nbconvert_exporter": "python",
   "pygments_lexer": "ipython3",
   "version": "3.9.14"
  }
 },
 "nbformat": 4,
 "nbformat_minor": 5
}
